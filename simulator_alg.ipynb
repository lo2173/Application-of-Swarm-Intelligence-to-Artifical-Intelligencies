{
 "cells": [
  {
   "cell_type": "code",
   "execution_count": 6,
   "metadata": {},
   "outputs": [
    {
     "name": "stdout",
     "output_type": "stream",
     "text": [
      "Requirement already satisfied: sentence-transformers in c:\\users\\ibuku\\appdata\\local\\programs\\python\\python310\\lib\\site-packages (2.2.2)\n",
      "Requirement already satisfied: transformers<5.0.0,>=4.6.0 in c:\\users\\ibuku\\appdata\\local\\programs\\python\\python310\\lib\\site-packages (from sentence-transformers) (4.35.0)\n",
      "Requirement already satisfied: tqdm in c:\\users\\ibuku\\appdata\\local\\programs\\python\\python310\\lib\\site-packages (from sentence-transformers) (4.65.0)\n",
      "Requirement already satisfied: torch>=1.6.0 in c:\\users\\ibuku\\appdata\\local\\programs\\python\\python310\\lib\\site-packages (from sentence-transformers) (2.0.1)\n",
      "Requirement already satisfied: torchvision in c:\\users\\ibuku\\appdata\\local\\programs\\python\\python310\\lib\\site-packages (from sentence-transformers) (0.15.2)\n",
      "Requirement already satisfied: numpy in c:\\users\\ibuku\\appdata\\local\\programs\\python\\python310\\lib\\site-packages (from sentence-transformers) (1.23.5)\n",
      "Requirement already satisfied: scikit-learn in c:\\users\\ibuku\\appdata\\local\\programs\\python\\python310\\lib\\site-packages (from sentence-transformers) (1.2.2)\n",
      "Requirement already satisfied: scipy in c:\\users\\ibuku\\appdata\\local\\programs\\python\\python310\\lib\\site-packages (from sentence-transformers) (1.10.1)\n",
      "Requirement already satisfied: nltk in c:\\users\\ibuku\\appdata\\local\\programs\\python\\python310\\lib\\site-packages (from sentence-transformers) (3.2.4)\n",
      "Requirement already satisfied: sentencepiece in c:\\users\\ibuku\\appdata\\local\\programs\\python\\python310\\lib\\site-packages (from sentence-transformers) (0.1.99)\n",
      "Requirement already satisfied: huggingface-hub>=0.4.0 in c:\\users\\ibuku\\appdata\\local\\programs\\python\\python310\\lib\\site-packages (from sentence-transformers) (0.16.4)\n",
      "Requirement already satisfied: filelock in c:\\users\\ibuku\\appdata\\local\\programs\\python\\python310\\lib\\site-packages (from huggingface-hub>=0.4.0->sentence-transformers) (3.12.2)\n",
      "Requirement already satisfied: fsspec in c:\\users\\ibuku\\appdata\\local\\programs\\python\\python310\\lib\\site-packages (from huggingface-hub>=0.4.0->sentence-transformers) (2023.6.0)\n",
      "Requirement already satisfied: requests in c:\\users\\ibuku\\appdata\\local\\programs\\python\\python310\\lib\\site-packages (from huggingface-hub>=0.4.0->sentence-transformers) (2.31.0)\n",
      "Requirement already satisfied: pyyaml>=5.1 in c:\\users\\ibuku\\appdata\\local\\programs\\python\\python310\\lib\\site-packages (from huggingface-hub>=0.4.0->sentence-transformers) (6.0)\n",
      "Requirement already satisfied: typing-extensions>=3.7.4.3 in c:\\users\\ibuku\\appdata\\local\\programs\\python\\python310\\lib\\site-packages (from huggingface-hub>=0.4.0->sentence-transformers) (4.7.1)\n",
      "Requirement already satisfied: packaging>=20.9 in c:\\users\\ibuku\\appdata\\roaming\\python\\python310\\site-packages (from huggingface-hub>=0.4.0->sentence-transformers) (23.1)\n",
      "Requirement already satisfied: sympy in c:\\users\\ibuku\\appdata\\local\\programs\\python\\python310\\lib\\site-packages (from torch>=1.6.0->sentence-transformers) (1.12)\n",
      "Requirement already satisfied: networkx in c:\\users\\ibuku\\appdata\\local\\programs\\python\\python310\\lib\\site-packages (from torch>=1.6.0->sentence-transformers) (3.1)\n",
      "Requirement already satisfied: jinja2 in c:\\users\\ibuku\\appdata\\local\\programs\\python\\python310\\lib\\site-packages (from torch>=1.6.0->sentence-transformers) (3.1.2)\n",
      "Requirement already satisfied: colorama in c:\\users\\ibuku\\appdata\\roaming\\python\\python310\\site-packages (from tqdm->sentence-transformers) (0.4.6)\n",
      "Requirement already satisfied: regex!=2019.12.17 in c:\\users\\ibuku\\appdata\\local\\programs\\python\\python310\\lib\\site-packages (from transformers<5.0.0,>=4.6.0->sentence-transformers) (2023.10.3)\n",
      "Requirement already satisfied: tokenizers<0.15,>=0.14 in c:\\users\\ibuku\\appdata\\local\\programs\\python\\python310\\lib\\site-packages (from transformers<5.0.0,>=4.6.0->sentence-transformers) (0.14.1)\n",
      "Requirement already satisfied: safetensors>=0.3.1 in c:\\users\\ibuku\\appdata\\local\\programs\\python\\python310\\lib\\site-packages (from transformers<5.0.0,>=4.6.0->sentence-transformers) (0.4.0)\n",
      "Requirement already satisfied: six in c:\\users\\ibuku\\appdata\\roaming\\python\\python310\\site-packages (from nltk->sentence-transformers) (1.16.0)\n",
      "Requirement already satisfied: joblib>=1.1.1 in c:\\users\\ibuku\\appdata\\local\\programs\\python\\python310\\lib\\site-packages (from scikit-learn->sentence-transformers) (1.2.0)\n",
      "Requirement already satisfied: threadpoolctl>=2.0.0 in c:\\users\\ibuku\\appdata\\local\\programs\\python\\python310\\lib\\site-packages (from scikit-learn->sentence-transformers) (3.1.0)\n",
      "Requirement already satisfied: pillow!=8.3.*,>=5.3.0 in c:\\users\\ibuku\\appdata\\local\\programs\\python\\python310\\lib\\site-packages (from torchvision->sentence-transformers) (9.5.0)\n",
      "Requirement already satisfied: MarkupSafe>=2.0 in c:\\users\\ibuku\\appdata\\local\\programs\\python\\python310\\lib\\site-packages (from jinja2->torch>=1.6.0->sentence-transformers) (2.1.3)\n",
      "Requirement already satisfied: charset-normalizer<4,>=2 in c:\\users\\ibuku\\appdata\\local\\programs\\python\\python310\\lib\\site-packages (from requests->huggingface-hub>=0.4.0->sentence-transformers) (3.1.0)\n",
      "Requirement already satisfied: idna<4,>=2.5 in c:\\users\\ibuku\\appdata\\local\\programs\\python\\python310\\lib\\site-packages (from requests->huggingface-hub>=0.4.0->sentence-transformers) (3.4)\n",
      "Requirement already satisfied: urllib3<3,>=1.21.1 in c:\\users\\ibuku\\appdata\\local\\programs\\python\\python310\\lib\\site-packages (from requests->huggingface-hub>=0.4.0->sentence-transformers) (1.26.16)\n",
      "Requirement already satisfied: certifi>=2017.4.17 in c:\\users\\ibuku\\appdata\\local\\programs\\python\\python310\\lib\\site-packages (from requests->huggingface-hub>=0.4.0->sentence-transformers) (2023.5.7)\n",
      "Requirement already satisfied: mpmath>=0.19 in c:\\users\\ibuku\\appdata\\local\\programs\\python\\python310\\lib\\site-packages (from sympy->torch>=1.6.0->sentence-transformers) (1.3.0)\n",
      "Note: you may need to restart the kernel to use updated packages.\n"
     ]
    },
    {
     "name": "stderr",
     "output_type": "stream",
     "text": [
      "\n",
      "[notice] A new release of pip is available: 23.1.2 -> 23.3.1\n",
      "[notice] To update, run: python.exe -m pip install --upgrade pip\n"
     ]
    }
   ],
   "source": [
    "pip install -U sentence-transformers\n"
   ]
  },
  {
   "cell_type": "code",
   "execution_count": 11,
   "metadata": {},
   "outputs": [],
   "source": [
    "#1D version\n",
    "import numpy as np\n",
    "import matplotlib as plt\n",
    "import math\n",
    "# have to find and import a standard draw python version\n"
   ]
  },
  {
   "cell_type": "code",
   "execution_count": null,
   "metadata": {},
   "outputs": [],
   "source": [
    "def get_gravForces(dists, mass_m, mass_p):\n",
    "    G = 6.6743 * 10^-11\n",
    "    invsqr_dists = 1/(dists)^2;\n",
    "    return -G*mass_m*mass_p*(invsqr_dists)\n"
   ]
  },
  {
   "cell_type": "code",
   "execution_count": 15,
   "metadata": {},
   "outputs": [
    {
     "data": {
      "text/plain": [
       "tensor([[0.9429]])"
      ]
     },
     "execution_count": 15,
     "metadata": {},
     "output_type": "execute_result"
    }
   ],
   "source": [
    "# example to use cosine distance and SentenceTransformer\n",
    "from sentence_transformers import SentenceTransformer,util\n",
    "model = SentenceTransformer('sentence-transformers/all-MiniLM-L6-v2')\n",
    "example_sentences = [\"That is a happy person\",\"That is a very happy person\"]\n",
    "embedding1 = model.encode(example_sentences[0], convert_to_tensor=True)\n",
    "embedding2 = model.encode(example_sentences[1],convert_to_tensor=True)\n",
    "cosine_scores = util.cos_sim(embedding1,embedding2)\n",
    "cosine_scores\n"
   ]
  },
  {
   "cell_type": "code",
   "execution_count": null,
   "metadata": {},
   "outputs": [],
   "source": [
    "from sentence_transformers import SentenceTransformer,util\n",
    "def get_simMatrix(options, botword):\n",
    "    model = SentenceTransformer('sentence-transformers/all-MiniLM-L6-v2')\n",
    "    e_botword = model.encode( botword)\n",
    "    sim_matrix = [0]*len(options)\n",
    "    for o in options:\n",
    "        e_o = model.encode(o)\n",
    "        sim_matrix[o] = util.cos_sim(e_botword, e_o)\n",
    "    return sim_matrix\n"
   ]
  },
  {
   "cell_type": "code",
   "execution_count": null,
   "metadata": {},
   "outputs": [],
   "source": [
    "def decision(conviction, sim_matrix, oldF, dists):\n",
    "    r\n"
   ]
  },
  {
   "cell_type": "code",
   "execution_count": null,
   "metadata": {},
   "outputs": [],
   "source": [
    "#decison parameters\n",
    "conviction = []\n",
    "sim_matrix = []\n"
   ]
  },
  {
   "cell_type": "code",
   "execution_count": null,
   "metadata": {},
   "outputs": [],
   "source": [
    "#N-Body high level\n",
    "#parameters of simulation\n",
    "T = 1000;\n",
    "n = 6;\n",
    "mass_m = 1;\n",
    "mass_p = 2;\n",
    "delta_t = 1;\n",
    "#initial info\n",
    "dists = [0]*n\n",
    "v = {}\n",
    "p = {}\n",
    "a = 0;\n",
    "F_mag, F_puck = 100\n",
    "for t in range(T):\n",
    "    # have to update dists at beginning/end of each loop\n",
    "    # puck updates\n",
    "    F_puck = np.sum(get_gravForces(dists,mass_m,mass_p))\n",
    "    a = F_puck/mass_p\n",
    "    #initial velocity\n",
    "    if(t == 0):\n",
    "        v['puck'][t] = 0\n",
    "        p['puck'][t] = 0\n",
    "    # have to define x and y in 2d version\n",
    "    v['puck'][t+delta_t] =  v['puck'][t] + a(delta_t)\n",
    "    p['puck'][t+delta_t] = p['puck'][t] + v['puck'][t+delta_t](delta_t)\n",
    "    for mag in range(n):\n",
    "        # 1D distance: t or delta_t\n",
    "        m = 'magnet'+mag\n",
    "        dists[mag] = math.abs(p[m][t] - p['puck'][t])\n",
    "        if(t==0):\n",
    "            p[m][t] = 0\n",
    "            v[m][t] = 0\n",
    "        F_mag = decision(conviction,sim_matrix,F_mag,dists)\n",
    "        a = F_mag / mass_m\n",
    "        v[m][t+delta_t] = v[m][t] +a(delta_t)\n",
    "        p[m][t+delta_t] = p[m][t]+v[m][t+delta_t](delta_t)\n"
   ]
  }
 ],
 "metadata": {
  "kernelspec": {
   "display_name": "Python 3",
   "language": "python",
   "name": "python3"
  },
  "language_info": {
   "codemirror_mode": {
    "name": "ipython",
    "version": 3
   },
   "file_extension": ".py",
   "mimetype": "text/x-python",
   "name": "python",
   "nbconvert_exporter": "python",
   "pygments_lexer": "ipython3",
   "version": "3.10.10"
  }
 },
 "nbformat": 4,
 "nbformat_minor": 2
}
